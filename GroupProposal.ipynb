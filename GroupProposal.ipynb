{
 "cells": [
  {
   "cell_type": "markdown",
   "metadata": {},
   "source": [
    "## GROUP PROJECT PROPOSAL"
   ]
  },
  {
   "cell_type": "markdown",
   "metadata": {},
   "source": [
    "# Predicting A Tennis Player's Best Rank From Prize Money Earned"
   ]
  },
  {
   "cell_type": "markdown",
   "metadata": {},
   "source": [
    "## Introduction\n",
    "\n",
    "Our group decided to use the Tennis dataset for our project. We started to discuss the possible predictive questions and felt that it would be interesting if we could use the best rank of a tennis player to predict their prize money earned. \n",
    "\n",
    "This dataset contains players in the top 500 ATP ranking that was recorded as of January 2020.\n",
    "ATP ranking are the merit-based method used by the Association of Tennis Professionals (ATP) for determining the qualifications for entry as well as the seeding of players in all singles and doubles tournaments. Ranking points are awarded according to the stage of tournament reached, and the prestige of the tournament, with the four Grand Slam tournaments awarding the most points. The rankings are updated every Monday, and points are dropped 52 weeks after being awarded (with the exception of the ATP Finals, from which points are dropped on the Monday following the last ATP Tour event of the following year). A player's ATP Ranking is based on the total points he accrued in the following 19 tournaments (18 if he did not qualify for the ATP Finals): The four Grand Slam tournaments, the eight mandatory ATP Tour Masters 1000 tournaments, the previous ATP Finals count until the Monday following the final regular-season ATP event of the following year, and the best six results from the non-mandatory ATP Tour 1000, all ATP Tour 500, ATP Tour 250, ATP Challenger Tour, Futures Series and Davis Cup tournaments played in the calendar year -- *source from [Wikipedia](https://en.wikipedia.org/wiki/ATP_Rankings)*\n",
    "\n",
    "\n",
    "\n",
    "### To begin with, we will set out some basic information from the data that we will use:\n",
    "\n",
    "* **Best Rank** = The best ATP rank of Athlete throughout their career. Lower numerical value signifies a higher rank standing. \n",
    "\n",
    "* **Prize Money** = Overall monetary compensation players receive throughout their tennis career. A player will be paid a base amount just for participation and if they advance to the next rounds then the amount will increase. The monetary prize will vary depending on what rounds the player qualified in the tournament. There will be a base amount just for participation and if they advance to the next rounds then the amount will increase. Also depending on which tournaments, monetary incentives might vary, bigger events usually offers more prize money.\n",
    "\n",
    "\n",
    "    \n",
    "It is important to note that, although a talented player may only play one tournament and walk out with $100,000 USD after winning the final round, however athletes who play more tournaments but loses half-way through the tournament may make more prize money overall. This is why our group wants to know if there is a correlation between athletes best tennis rank and their prize money and if we can predict / estimate their best rank from the prize money they earned. For instance we could ask, \"If a player has $200,000 (USD) what will be their predicted best rank?\" \n",
    "\n",
    "\n"
   ]
  },
  {
   "cell_type": "markdown",
   "metadata": {},
   "source": [
    "## Preliminary Exploratory data analysis"
   ]
  },
  {
   "cell_type": "markdown",
   "metadata": {},
   "source": [
    "After reading the data in R, we uncovered several issues.\n",
    "First we filtered out the rows that have null prize money reported. \n",
    "Then we cleaned up the data in the best rank and prize money since some of it contains unwanted text, symbols or punctuation."
   ]
  },
  {
   "cell_type": "code",
   "execution_count": 12,
   "metadata": {},
   "outputs": [],
   "source": [
    "### Run this cell before continuing\n",
    "library(tidyverse)\n",
    "library(dplyr)\n",
    "library(tidyr)\n",
    "library(testthat)\n",
    "library(repr)\n",
    "library(tidymodels)\n",
    "library(readr)\n",
    "library(stringr)\n",
    "\n"
   ]
  },
  {
   "cell_type": "code",
   "execution_count": 98,
   "metadata": {},
   "outputs": [
    {
     "name": "stderr",
     "output_type": "stream",
     "text": [
      "Warning message:\n",
      "“Missing column names filled in: 'X1' [1]”\n",
      "Parsed with column specification:\n",
      "cols(\n",
      "  .default = col_character(),\n",
      "  X1 = \u001b[32mcol_double()\u001b[39m,\n",
      "  `Turned Pro` = \u001b[32mcol_double()\u001b[39m,\n",
      "  Seasons = \u001b[32mcol_double()\u001b[39m,\n",
      "  Titles = \u001b[32mcol_double()\u001b[39m,\n",
      "  `Best Season` = \u001b[32mcol_double()\u001b[39m,\n",
      "  Retired = \u001b[32mcol_double()\u001b[39m,\n",
      "  Masters = \u001b[32mcol_double()\u001b[39m,\n",
      "  `Grand Slams` = \u001b[32mcol_double()\u001b[39m,\n",
      "  `Davis Cups` = \u001b[32mcol_double()\u001b[39m,\n",
      "  `Team Cups` = \u001b[32mcol_double()\u001b[39m,\n",
      "  Olympics = \u001b[32mcol_double()\u001b[39m,\n",
      "  `Weeks at No. 1` = \u001b[32mcol_double()\u001b[39m,\n",
      "  `Tour Finals` = \u001b[32mcol_double()\u001b[39m\n",
      ")\n",
      "\n",
      "See spec(...) for full column specifications.\n",
      "\n",
      "Warning message:\n",
      "“Expected 2 pieces. Additional pieces discarded in 419 rows [1, 2, 3, 4, 5, 6, 7, 8, 9, 10, 11, 12, 13, 14, 15, 16, 17, 18, 19, 20, ...].”\n",
      "Warning message:\n",
      "“Expected 2 pieces. Missing pieces filled with `NA` in 397 rows [1, 2, 3, 4, 5, 6, 7, 8, 9, 10, 11, 12, 13, 14, 16, 17, 18, 19, 20, 21, ...].”\n"
     ]
    },
    {
     "data": {
      "text/html": [
       "<table>\n",
       "<caption>A data.frame: 419 × 2</caption>\n",
       "<thead>\n",
       "\t<tr><th scope=col>Best.Rank</th><th scope=col>Prize.Money</th></tr>\n",
       "\t<tr><th scope=col>&lt;dbl&gt;</th><th scope=col>&lt;dbl&gt;</th></tr>\n",
       "</thead>\n",
       "<tbody>\n",
       "\t<tr><td>316</td><td>  59040</td></tr>\n",
       "\t<tr><td> 44</td><td>3261567</td></tr>\n",
       "\t<tr><td>130</td><td> 374093</td></tr>\n",
       "\t<tr><td>⋮</td><td>⋮</td></tr>\n",
       "\t<tr><td>380</td><td>   57943</td></tr>\n",
       "\t<tr><td>  4</td><td>22132368</td></tr>\n",
       "\t<tr><td>408</td><td>   61984</td></tr>\n",
       "</tbody>\n",
       "</table>\n"
      ],
      "text/latex": [
       "A data.frame: 419 × 2\n",
       "\\begin{tabular}{ll}\n",
       " Best.Rank & Prize.Money\\\\\n",
       " <dbl> & <dbl>\\\\\n",
       "\\hline\n",
       "\t 316 &   59040\\\\\n",
       "\t  44 & 3261567\\\\\n",
       "\t 130 &  374093\\\\\n",
       "\t ⋮ & ⋮\\\\\n",
       "\t 380 &    57943\\\\\n",
       "\t   4 & 22132368\\\\\n",
       "\t 408 &    61984\\\\\n",
       "\\end{tabular}\n"
      ],
      "text/markdown": [
       "\n",
       "A data.frame: 419 × 2\n",
       "\n",
       "| Best.Rank &lt;dbl&gt; | Prize.Money &lt;dbl&gt; |\n",
       "|---|---|\n",
       "| 316 |   59040 |\n",
       "|  44 | 3261567 |\n",
       "| 130 |  374093 |\n",
       "| ⋮ | ⋮ |\n",
       "| 380 |    57943 |\n",
       "|   4 | 22132368 |\n",
       "| 408 |    61984 |\n",
       "\n"
      ],
      "text/plain": [
       "    Best.Rank Prize.Money\n",
       "1   316         59040    \n",
       "2    44       3261567    \n",
       "3   130        374093    \n",
       "⋮   ⋮         ⋮          \n",
       "417 380          57943   \n",
       "418   4       22132368   \n",
       "419 408          61984   "
      ]
     },
     "metadata": {},
     "output_type": "display_data"
    }
   ],
   "source": [
    "# reads in data\n",
    "all_player_stats <- read_csv(\"https://ghcdn.rawgit.org/sobamilk/group_project/main/player_stats.csv\")\n",
    "colnames(all_player_stats) <- make.names(colnames(all_player_stats))\n",
    "\n",
    "\n",
    "\n",
    "#Best.Rank_messy\n",
    "#Filter out best rank row when the corresponding prize money is unavailable\n",
    "Best.Rank_messy <- all_player_stats %>%\n",
    "                    filter(!is.na(Prize.Money))\n",
    "\n",
    "\n",
    "\n",
    "# Best.Rank_clean: \n",
    "#further data clean up for best rank\n",
    "#as you can see in the initial data, the best rank column not only contains the best rank, but also the date they got their best rank.\n",
    "#so we should seperate to make sure it only contains the rank and rank must be numeric\n",
    "\n",
    "Best.Rank_clean <- Best.Rank_messy %>%\n",
    "                    separate(Best.Rank, c('Best.Rank', 'delete1')) %>%\n",
    "                    mutate(Best.Rank = as.numeric(Best.Rank)) %>%\n",
    "                    select(Best.Rank)\n",
    "\n",
    "\n",
    "test <- '$ '\n",
    "\n",
    "# Prize money clean up\n",
    "# removing text, symbols, spacing and punctuation. Prize money must be numeric\n",
    "Prize.money_clean <- all_player_stats %>%\n",
    "                    select(Prize.Money) %>%\n",
    "                    filter(!is.na(Prize.Money)) %>%\n",
    "                    mutate(Prize.money_no_dollar=gsub('\\\\$','',Prize.Money)) %>%\n",
    "                    mutate(Prize.money_no_USspace=gsub('US ','',Prize.money_no_dollar)) %>%\n",
    "                    mutate(Prize.money_no_US=gsub('US','',Prize.money_no_USspace)) %>%\n",
    "                    mutate(Prize.money_no_beginWithSpace= gsub('^\\\\s', '',Prize.money_no_US)) %>%\n",
    "                    mutate(Prize.money_no_comma=gsub(',','',Prize.money_no_beginWithSpace)) %>%\n",
    "                    separate(Prize.money_no_comma, c(\"Prize.money_clean\", \"delete2\"), sep = \"\\\\s\", extra = \"merge\") %>%\n",
    "                    mutate(Prize.Money = as.numeric(Prize.money_clean)) %>%\n",
    "                    select(Prize.Money)\n",
    "\n",
    "\n",
    "\n",
    "# bind the two cleaned columns together to make final dataset\n",
    "player_stats <- cbind(Best.Rank_clean, Prize.money_clean)\n",
    "\n",
    "player_stats"
   ]
  },
  {
   "cell_type": "markdown",
   "metadata": {},
   "source": [
    "The clean up data has now 419 data points"
   ]
  },
  {
   "cell_type": "code",
   "execution_count": 32,
   "metadata": {},
   "outputs": [
    {
     "data": {
      "text/html": [
       "419"
      ],
      "text/latex": [
       "419"
      ],
      "text/markdown": [
       "419"
      ],
      "text/plain": [
       "[1] 419"
      ]
     },
     "metadata": {},
     "output_type": "display_data"
    }
   ],
   "source": [
    "nrow(player_stats)"
   ]
  },
  {
   "cell_type": "code",
   "execution_count": 80,
   "metadata": {},
   "outputs": [],
   "source": [
    "### Splitting data into training and testing data\n",
    "\n",
    "tennis_split <- initial_split(player_stats, prop = 0.75, strata = Best.Rank)\n",
    "tennis_training <- training(tennis_split)\n",
    "tennis_testing <- testing(tennis_split)"
   ]
  },
  {
   "cell_type": "code",
   "execution_count": 125,
   "metadata": {},
   "outputs": [
    {
     "data": {
      "text/html": [
       "<table>\n",
       "<caption>A data.frame: 316 × 2</caption>\n",
       "<thead>\n",
       "\t<tr><th scope=col>Best.Rank</th><th scope=col>Prize.Money</th></tr>\n",
       "\t<tr><th scope=col>&lt;dbl&gt;</th><th scope=col>&lt;dbl&gt;</th></tr>\n",
       "</thead>\n",
       "<tbody>\n",
       "\t<tr><td>1</td><td>119601561</td></tr>\n",
       "\t<tr><td>1</td><td>139144944</td></tr>\n",
       "\t<tr><td>1</td><td> 61544007</td></tr>\n",
       "\t<tr><td>⋮</td><td>⋮</td></tr>\n",
       "\t<tr><td>457</td><td>45711</td></tr>\n",
       "\t<tr><td>462</td><td>12533</td></tr>\n",
       "\t<tr><td>488</td><td>14811</td></tr>\n",
       "</tbody>\n",
       "</table>\n"
      ],
      "text/latex": [
       "A data.frame: 316 × 2\n",
       "\\begin{tabular}{ll}\n",
       " Best.Rank & Prize.Money\\\\\n",
       " <dbl> & <dbl>\\\\\n",
       "\\hline\n",
       "\t 1 & 119601561\\\\\n",
       "\t 1 & 139144944\\\\\n",
       "\t 1 &  61544007\\\\\n",
       "\t ⋮ & ⋮\\\\\n",
       "\t 457 & 45711\\\\\n",
       "\t 462 & 12533\\\\\n",
       "\t 488 & 14811\\\\\n",
       "\\end{tabular}\n"
      ],
      "text/markdown": [
       "\n",
       "A data.frame: 316 × 2\n",
       "\n",
       "| Best.Rank &lt;dbl&gt; | Prize.Money &lt;dbl&gt; |\n",
       "|---|---|\n",
       "| 1 | 119601561 |\n",
       "| 1 | 139144944 |\n",
       "| 1 |  61544007 |\n",
       "| ⋮ | ⋮ |\n",
       "| 457 | 45711 |\n",
       "| 462 | 12533 |\n",
       "| 488 | 14811 |\n",
       "\n"
      ],
      "text/plain": [
       "    Best.Rank Prize.Money\n",
       "1   1         119601561  \n",
       "2   1         139144944  \n",
       "3   1          61544007  \n",
       "⋮   ⋮         ⋮          \n",
       "314 457       45711      \n",
       "315 462       12533      \n",
       "316 488       14811      "
      ]
     },
     "metadata": {},
     "output_type": "display_data"
    },
    {
     "name": "stdout",
     "output_type": "stream",
     "text": [
      "[1] \"number of data points in the training set:\"\n"
     ]
    },
    {
     "data": {
      "text/html": [
       "316"
      ],
      "text/latex": [
       "316"
      ],
      "text/markdown": [
       "316"
      ],
      "text/plain": [
       "[1] 316"
      ]
     },
     "metadata": {},
     "output_type": "display_data"
    }
   ],
   "source": [
    "# try and load tennis training data in ascending order\n",
    "tennis_training %>% arrange(Best.Rank)\n",
    "print(\"number of data points in the training set:\")\n",
    "nrow(tennis_training)"
   ]
  },
  {
   "cell_type": "markdown",
   "metadata": {},
   "source": [
    "### We can see from the data above that there are multiple of the same best rank, to summarize the data we can make subsets with the same best rank. Now we will make a table for basic summary statistics from the group by same best rank. For instance in the training set there are 4 athletes that had a best rank of 1. We can find the mean, max, and min values of the prize money from this subset. <br>"
   ]
  },
  {
   "cell_type": "code",
   "execution_count": 96,
   "metadata": {},
   "outputs": [
    {
     "data": {
      "text/html": [
       "<table>\n",
       "<caption>A data.frame: 4 × 2</caption>\n",
       "<thead>\n",
       "\t<tr><th></th><th scope=col>Best.Rank</th><th scope=col>Prize.Money</th></tr>\n",
       "\t<tr><th></th><th scope=col>&lt;dbl&gt;</th><th scope=col>&lt;dbl&gt;</th></tr>\n",
       "</thead>\n",
       "<tbody>\n",
       "\t<tr><th scope=row>55</th><td>1</td><td>119601561</td></tr>\n",
       "\t<tr><th scope=row>243</th><td>1</td><td>139144944</td></tr>\n",
       "\t<tr><th scope=row>295</th><td>1</td><td> 61544007</td></tr>\n",
       "\t<tr><th scope=row>315</th><td>1</td><td>129231891</td></tr>\n",
       "</tbody>\n",
       "</table>\n"
      ],
      "text/latex": [
       "A data.frame: 4 × 2\n",
       "\\begin{tabular}{r|ll}\n",
       "  & Best.Rank & Prize.Money\\\\\n",
       "  & <dbl> & <dbl>\\\\\n",
       "\\hline\n",
       "\t55 & 1 & 119601561\\\\\n",
       "\t243 & 1 & 139144944\\\\\n",
       "\t295 & 1 &  61544007\\\\\n",
       "\t315 & 1 & 129231891\\\\\n",
       "\\end{tabular}\n"
      ],
      "text/markdown": [
       "\n",
       "A data.frame: 4 × 2\n",
       "\n",
       "| <!--/--> | Best.Rank &lt;dbl&gt; | Prize.Money &lt;dbl&gt; |\n",
       "|---|---|---|\n",
       "| 55 | 1 | 119601561 |\n",
       "| 243 | 1 | 139144944 |\n",
       "| 295 | 1 |  61544007 |\n",
       "| 315 | 1 | 129231891 |\n",
       "\n"
      ],
      "text/plain": [
       "    Best.Rank Prize.Money\n",
       "55  1         119601561  \n",
       "243 1         139144944  \n",
       "295 1          61544007  \n",
       "315 1         129231891  "
      ]
     },
     "metadata": {},
     "output_type": "display_data"
    },
    {
     "name": "stdout",
     "output_type": "stream",
     "text": [
      "[1] \"Mean Prize Money Earned from Subset Best Rank 1:\"\n"
     ]
    },
    {
     "data": {
      "text/html": [
       "112380600.75"
      ],
      "text/latex": [
       "112380600.75"
      ],
      "text/markdown": [
       "112380600.75"
      ],
      "text/plain": [
       "[1] 112380601"
      ]
     },
     "metadata": {},
     "output_type": "display_data"
    },
    {
     "name": "stdout",
     "output_type": "stream",
     "text": [
      "[1] \"Maximum Prize Money Earned from Subset Best Rank 1:\"\n"
     ]
    },
    {
     "data": {
      "text/html": [
       "139144944"
      ],
      "text/latex": [
       "139144944"
      ],
      "text/markdown": [
       "139144944"
      ],
      "text/plain": [
       "[1] 139144944"
      ]
     },
     "metadata": {},
     "output_type": "display_data"
    },
    {
     "name": "stdout",
     "output_type": "stream",
     "text": [
      "[1] \"Minimum Prize Money Earned from Subset Best Rank 1:\"\n"
     ]
    },
    {
     "data": {
      "text/html": [
       "61544007"
      ],
      "text/latex": [
       "61544007"
      ],
      "text/markdown": [
       "61544007"
      ],
      "text/plain": [
       "[1] 61544007"
      ]
     },
     "metadata": {},
     "output_type": "display_data"
    }
   ],
   "source": [
    "exampleSubset_BestRank1 <- subset(tennis_training, Best.Rank == 1)\n",
    "exampleSubset_BestRank1\n",
    "\n",
    "print(\"Mean Prize Money Earned from Subset Best Rank 1:\")\n",
    "mean(exampleSubset_BestRank1$Prize.Money)\n",
    "\n",
    "print(\"Maximum Prize Money Earned from Subset Best Rank 1:\")\n",
    "max(exampleSubset_BestRank1$Prize.Money)\n",
    "\n",
    "print(\"Minimum Prize Money Earned from Subset Best Rank 1:\")\n",
    "min(exampleSubset_BestRank1$Prize.Money)"
   ]
  },
  {
   "cell_type": "markdown",
   "metadata": {},
   "source": [
    "### We can do this to all the best ranks group and we will get this table"
   ]
  },
  {
   "cell_type": "code",
   "execution_count": 137,
   "metadata": {},
   "outputs": [
    {
     "name": "stderr",
     "output_type": "stream",
     "text": [
      "`summarise()` ungrouping output (override with `.groups` argument)\n",
      "\n",
      "`summarise()` ungrouping output (override with `.groups` argument)\n",
      "\n",
      "`summarise()` ungrouping output (override with `.groups` argument)\n",
      "\n"
     ]
    },
    {
     "data": {
      "text/html": [
       "<table>\n",
       "<caption>A data.frame: 212 × 4</caption>\n",
       "<thead>\n",
       "\t<tr><th scope=col>Best Rank</th><th scope=col>Mean Prize Money ($)</th><th scope=col>Min Prize Money($)</th><th scope=col>Max Prize Money ($)</th></tr>\n",
       "\t<tr><th scope=col>&lt;dbl&gt;</th><th scope=col>&lt;dbl&gt;</th><th scope=col>&lt;dbl&gt;</th><th scope=col>&lt;dbl&gt;</th></tr>\n",
       "</thead>\n",
       "<tbody>\n",
       "\t<tr><td>1</td><td>112380601</td><td>61544007</td><td>139144944</td></tr>\n",
       "\t<tr><td>3</td><td> 24809191</td><td>18020217</td><td> 33790279</td></tr>\n",
       "\t<tr><td>4</td><td> 18828897</td><td>10507693</td><td> 23846631</td></tr>\n",
       "\t<tr><td>⋮</td><td>⋮</td><td>⋮</td><td>⋮</td></tr>\n",
       "\t<tr><td>457</td><td>45711</td><td>45711</td><td>45711</td></tr>\n",
       "\t<tr><td>462</td><td>12533</td><td>12533</td><td>12533</td></tr>\n",
       "\t<tr><td>488</td><td>14811</td><td>14811</td><td>14811</td></tr>\n",
       "</tbody>\n",
       "</table>\n"
      ],
      "text/latex": [
       "A data.frame: 212 × 4\n",
       "\\begin{tabular}{llll}\n",
       " Best Rank & Mean Prize Money (\\$) & Min Prize Money(\\$) & Max Prize Money (\\$)\\\\\n",
       " <dbl> & <dbl> & <dbl> & <dbl>\\\\\n",
       "\\hline\n",
       "\t 1 & 112380601 & 61544007 & 139144944\\\\\n",
       "\t 3 &  24809191 & 18020217 &  33790279\\\\\n",
       "\t 4 &  18828897 & 10507693 &  23846631\\\\\n",
       "\t ⋮ & ⋮ & ⋮ & ⋮\\\\\n",
       "\t 457 & 45711 & 45711 & 45711\\\\\n",
       "\t 462 & 12533 & 12533 & 12533\\\\\n",
       "\t 488 & 14811 & 14811 & 14811\\\\\n",
       "\\end{tabular}\n"
      ],
      "text/markdown": [
       "\n",
       "A data.frame: 212 × 4\n",
       "\n",
       "| Best Rank &lt;dbl&gt; | Mean Prize Money ($) &lt;dbl&gt; | Min Prize Money($) &lt;dbl&gt; | Max Prize Money ($) &lt;dbl&gt; |\n",
       "|---|---|---|---|\n",
       "| 1 | 112380601 | 61544007 | 139144944 |\n",
       "| 3 |  24809191 | 18020217 |  33790279 |\n",
       "| 4 |  18828897 | 10507693 |  23846631 |\n",
       "| ⋮ | ⋮ | ⋮ | ⋮ |\n",
       "| 457 | 45711 | 45711 | 45711 |\n",
       "| 462 | 12533 | 12533 | 12533 |\n",
       "| 488 | 14811 | 14811 | 14811 |\n",
       "\n"
      ],
      "text/plain": [
       "    Best Rank Mean Prize Money ($) Min Prize Money($) Max Prize Money ($)\n",
       "1   1         112380601            61544007           139144944          \n",
       "2   3          24809191            18020217            33790279          \n",
       "3   4          18828897            10507693            23846631          \n",
       "⋮   ⋮         ⋮                    ⋮                  ⋮                  \n",
       "210 457       45711                45711              45711              \n",
       "211 462       12533                12533              12533              \n",
       "212 488       14811                14811              14811              "
      ]
     },
     "metadata": {},
     "output_type": "display_data"
    },
    {
     "name": "stdout",
     "output_type": "stream",
     "text": [
      "[1] \"number of data points after we group by best rank:\"\n"
     ]
    },
    {
     "data": {
      "text/html": [
       "212"
      ],
      "text/latex": [
       "212"
      ],
      "text/markdown": [
       "212"
      ],
      "text/plain": [
       "[1] 212"
      ]
     },
     "metadata": {},
     "output_type": "display_data"
    }
   ],
   "source": [
    "#group by the same best ranks\n",
    "by_BestRank <- tennis_training %>% group_by(Best.Rank) %>% arrange(Best.Rank)\n",
    "\n",
    "#display the mean, min, max of the group by best rank\n",
    "mean_BestRank <- by_BestRank %>% summarise(Prize.Money = mean(Prize.Money))\n",
    "min_BestRank <- by_BestRank %>% summarise(Prize.Money = min(Prize.Money))\n",
    "max_BestRank <- by_BestRank %>% summarise(Prize.Money = max(Prize.Money))\n",
    "\n",
    "#bind the mean, min, and max column into one table\n",
    "summaryTable_byBestRank <- cbind(mean_BestRank, min_BestRank$Prize.Money, max_BestRank$Prize.Money)\n",
    "\n",
    "#change column names so human readable\n",
    "colnames(summaryTable_byBestRank) <- c(\"Best Rank\", \"Mean Prize Money ($)\", \"Min Prize Money($)\", \"Max Prize Money ($)\")\n",
    "\n",
    "#summaryTable_byBestRank %>% as_tibble %>% print(n = 212) ##MODIFY THIS BEFORE SUBMITING SO DISPLAY IS NOT TOO LONG\n",
    "summaryTable_byBestRank\n",
    "\n",
    "print(\"number of data points after we group by best rank:\")\n",
    "nrow(summaryTable_byBestRank)"
   ]
  },
  {
   "cell_type": "markdown",
   "metadata": {},
   "source": [
    "### We can do the same thing we did as with the testing data. We can group by best rank and find the summary statistics, then plot the scatterplot Best Rank vs. Mean Prize Money"
   ]
  },
  {
   "cell_type": "code",
   "execution_count": 164,
   "metadata": {},
   "outputs": [
    {
     "name": "stderr",
     "output_type": "stream",
     "text": [
      "`summarise()` ungrouping output (override with `.groups` argument)\n",
      "\n"
     ]
    },
    {
     "data": {
      "text/html": [
       "<table>\n",
       "<caption>A tibble: 84 × 2</caption>\n",
       "<thead>\n",
       "\t<tr><th scope=col>Best.Rank</th><th scope=col>Mean.Prize.Money</th></tr>\n",
       "\t<tr><th scope=col>&lt;dbl&gt;</th><th scope=col>&lt;dbl&gt;</th></tr>\n",
       "</thead>\n",
       "<tbody>\n",
       "\t<tr><td>3</td><td>20028563</td></tr>\n",
       "\t<tr><td>5</td><td>13376235</td></tr>\n",
       "\t<tr><td>6</td><td>14773644</td></tr>\n",
       "\t<tr><td>⋮</td><td>⋮</td></tr>\n",
       "\t<tr><td>434</td><td> 2893</td></tr>\n",
       "\t<tr><td>451</td><td>27473</td></tr>\n",
       "\t<tr><td>485</td><td>22560</td></tr>\n",
       "</tbody>\n",
       "</table>\n"
      ],
      "text/latex": [
       "A tibble: 84 × 2\n",
       "\\begin{tabular}{ll}\n",
       " Best.Rank & Mean.Prize.Money\\\\\n",
       " <dbl> & <dbl>\\\\\n",
       "\\hline\n",
       "\t 3 & 20028563\\\\\n",
       "\t 5 & 13376235\\\\\n",
       "\t 6 & 14773644\\\\\n",
       "\t ⋮ & ⋮\\\\\n",
       "\t 434 &  2893\\\\\n",
       "\t 451 & 27473\\\\\n",
       "\t 485 & 22560\\\\\n",
       "\\end{tabular}\n"
      ],
      "text/markdown": [
       "\n",
       "A tibble: 84 × 2\n",
       "\n",
       "| Best.Rank &lt;dbl&gt; | Mean.Prize.Money &lt;dbl&gt; |\n",
       "|---|---|\n",
       "| 3 | 20028563 |\n",
       "| 5 | 13376235 |\n",
       "| 6 | 14773644 |\n",
       "| ⋮ | ⋮ |\n",
       "| 434 |  2893 |\n",
       "| 451 | 27473 |\n",
       "| 485 | 22560 |\n",
       "\n"
      ],
      "text/plain": [
       "   Best.Rank Mean.Prize.Money\n",
       "1  3         20028563        \n",
       "2  5         13376235        \n",
       "3  6         14773644        \n",
       "⋮  ⋮         ⋮               \n",
       "82 434        2893           \n",
       "83 451       27473           \n",
       "84 485       22560           "
      ]
     },
     "metadata": {},
     "output_type": "display_data"
    },
    {
     "data": {
      "text/html": [
       "84"
      ],
      "text/latex": [
       "84"
      ],
      "text/markdown": [
       "84"
      ],
      "text/plain": [
       "[1] 84"
      ]
     },
     "metadata": {},
     "output_type": "display_data"
    }
   ],
   "source": [
    "#group by the same best ranks\n",
    "by_BestRank_testing <- tennis_testing %>% group_by(Best.Rank) %>% arrange(Best.Rank)\n",
    "\n",
    "#display the mean of the group by best rank\n",
    "summaryTable_byBestRank_testing <- by_BestRank_testing %>% summarise(Mean.Prize.Money = mean(Prize.Money))\n",
    "\n",
    "\n",
    "#change column names so human readable\n",
    "#colnames(summaryTable_byBestRank_testing) <- c(\"Best Rank\", \"Mean Prize Money ($)\")\n",
    "\n",
    "summaryTable_byBestRank_testing\n",
    "nrow(summaryTable_byBestRank_testing)"
   ]
  },
  {
   "cell_type": "code",
   "execution_count": 165,
   "metadata": {},
   "outputs": [
    {
     "name": "stderr",
     "output_type": "stream",
     "text": [
      "Warning message:\n",
      "“Use of `summaryTable_byBestRank_testing$Best.Rank` is discouraged. Use `Best.Rank` instead.”\n",
      "Warning message:\n",
      "“Use of `summaryTable_byBestRank_testing$Mean.Prize.Money` is discouraged. Use `Mean.Prize.Money` instead.”\n"
     ]
    },
    {
     "data": {
      "image/png": "iVBORw0KGgoAAAANSUhEUgAABLAAAASwCAMAAADc/0P9AAADAFBMVEUAAAABAQECAgIDAwME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\nSUVORK5CYII=",
      "text/plain": [
       "plot without title"
      ]
     },
     "metadata": {
      "image/png": {
       "height": 600,
       "width": 600
      }
     },
     "output_type": "display_data"
    }
   ],
   "source": [
    "#plot the scatter plot of the summary table of testing data set that has been grouped by best rank.\n",
    "\n",
    "testing_scatt_plot <-summaryTable_byBestRank_testing %>% ggplot(aes(x = summaryTable_byBestRank_testing$Best.Rank, y = (summaryTable_byBestRank_testing$Mean.Prize.Money)/10000)) +\n",
    "                            geom_point(size = 2.5) +\n",
    "                            labs(x = \"Best Rank of Tennis Player\", y = \"Average Prize Money Won per $10 000\") +\n",
    "                            ggtitle(\"Average Prize Money Won Versus Best Rank of Tennis Player\") +\n",
    "                            theme(text = element_text(size = 20), plot.title = element_text(size=17))\n",
    "\n",
    "\n",
    "options(repr.plot.width=10, repr.plot.height=10)\n",
    "\n",
    "testing_scatt_plot"
   ]
  },
  {
   "cell_type": "markdown",
   "metadata": {},
   "source": [
    "### Maybe we should add another graph? Histogram? since its hard to add diff colors to visualize in scatterplot?\n",
    "### maybe we should add different group categories? eg. 1-10 rank, 11-50, 50-100, 200-300, 400-500?"
   ]
  },
  {
   "cell_type": "code",
   "execution_count": null,
   "metadata": {},
   "outputs": [],
   "source": []
  },
  {
   "cell_type": "markdown",
   "metadata": {},
   "source": [
    "## Methods"
   ]
  },
  {
   "cell_type": "markdown",
   "metadata": {},
   "source": [
    "The question our team wanted to investigate is if we can use the prize money to predict their best rank. <br>\n",
    "EG. what would be the best ranking for a player with $200,000?\n",
    "\n",
    "\n",
    "\n",
    "\n",
    "\n",
    "\n",
    "The data we will use is the Best Rank column and the Prize Money column. We first sorted out the two columns to keep the data units in the two columns the same. <br> Next, we split the data set into training data set and testing data set, using 75% of the original data as training data. <br>\n",
    "Then we construct a linear regression model specification. We also create a recipe, build a workflow analysis, and fit our simple linear regression model. <br> When we use RMSPE to find the best settings for 𝑘 from our workflow, we tested 200 values for 𝑘. \n",
    "<br> Then, we find the minimum RMSPE and its related metrics to help us find the number of optimal neighbors that will serve as our 𝑘 value. <br>\n",
    "To evaluate how well our model does at predicting invisible data, we also evaluate its RMSPE on testing data.[e] <br>\n",
    "We can then use our best 𝑘 values to visualize the relationship between Best Rank and Prize Money. <br> Finally we explore how 𝑘 values affect regression."
   ]
  },
  {
   "cell_type": "markdown",
   "metadata": {},
   "source": [
    "## Expected Outcomes and Significance"
   ]
  },
  {
   "cell_type": "markdown",
   "metadata": {},
   "source": [
    "### What do we expect to find?\n",
    "A correlation between Best Rank and Prize Money for tennis players."
   ]
  },
  {
   "cell_type": "markdown",
   "metadata": {},
   "source": [
    "### What impact could such findings have?\n",
    "\n",
    "Establishing a relationship between the amount of Prize Money won and a tennis player's Best Rank can help validate the rankings (and the system in which prize money is distributed). <br>\n",
    "Inversely, the relationship–or lack-of–may point out the invalidity in these systems."
   ]
  },
  {
   "cell_type": "markdown",
   "metadata": {},
   "source": [
    "### What future questions could this lead to?\n",
    "How indicative is the amount of Prize Money won to determine good performance (represented by rank) in tennis?"
    "Is there a relationship between Best Rank and whether a tennis player plays doubles or singles? Generally speaking, tennis players who play doubles make less than tennis player who play singles. Considering that assumption, will there be a negative relationship between Best Rank and tennis players who play doubles?"
   ]
  },
  {
   "cell_type": "code",
   "execution_count": null,
   "metadata": {},
   "outputs": [],
   "source": []
  }
 ],
 "metadata": {
  "kernelspec": {
   "display_name": "R",
   "language": "R",
   "name": "ir"
  },
  "language_info": {
   "codemirror_mode": "r",
   "file_extension": ".r",
   "mimetype": "text/x-r-source",
   "name": "R",
   "pygments_lexer": "r",
   "version": "4.0.0"
  }
 },
 "nbformat": 4,
 "nbformat_minor": 4
}
